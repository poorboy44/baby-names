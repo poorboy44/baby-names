{
 "metadata": {
  "name": "",
  "signature": "sha256:e1faa3bfc24855d5292b7d3f65c19bfe32060b87e41bf8bc515b13088b6f8d35"
 },
 "nbformat": 3,
 "nbformat_minor": 0,
 "worksheets": [
  {
   "cells": [
    {
     "cell_type": "code",
     "collapsed": false,
     "input": [
      "print \"foo\""
     ],
     "language": "python",
     "metadata": {},
     "outputs": [
      {
       "output_type": "stream",
       "stream": "stdout",
       "text": [
        "foo\n"
       ]
      }
     ],
     "prompt_number": 3
    },
    {
     "cell_type": "code",
     "collapsed": false,
     "input": [],
     "language": "python",
     "metadata": {},
     "outputs": []
    },
    {
     "cell_type": "raw",
     "metadata": {},
     "source": [
      "Baby Names Analysis"
     ]
    },
    {
     "cell_type": "code",
     "collapsed": false,
     "input": [
      "#!/usr/bin/env python\n",
      "\n",
      "import sys\n",
      "import pandas as pd\n",
      "import os\n",
      "import numpy as np\n",
      "import matplotlib.pyplot as plt\n",
      "from statsmodels.nonparametric.smoothers_lowess import lowess\n",
      "import matplotlib\n",
      "from matplotlib.mlab import PCA\n",
      "\n",
      "\n",
      "filedir=\"/Users/snelson/projects/names\"\n",
      "os.chdir(filedir)\n",
      "\n",
      "years=range(1880, 2013)\n",
      "pieces=[]\n",
      "columns=['name', 'sex', 'births']\n",
      "\n",
      "for year in years:\n",
      "\tpath='./yob%d.txt' % year\n",
      "\tframe=pd.read_csv(path, names=columns)\n",
      "\tframe['year']=year\n",
      "\tpieces.append(frame)\n",
      "\n",
      "names=pd.concat(pieces, ignore_index=True)"
     ],
     "language": "python",
     "metadata": {},
     "outputs": [],
     "prompt_number": 4
    },
    {
     "cell_type": "markdown",
     "metadata": {},
     "source": [
      "Plot total births by year/sex:"
     ]
    },
    {
     "cell_type": "code",
     "collapsed": false,
     "input": [
      "total_births=names.pivot_table('births', rows='year', columns='sex', aggfunc=sum)\n",
      "total_births.head()\n",
      "total_births.tail()\n",
      "total_births.plot(title='Total births by sex and year')\n",
      "plt.show()"
     ],
     "language": "python",
     "metadata": {},
     "outputs": [],
     "prompt_number": 6
    },
    {
     "cell_type": "markdown",
     "metadata": {},
     "source": [
      "Plot proportions of M/F:"
     ]
    },
    {
     "cell_type": "code",
     "collapsed": false,
     "input": [
      "def add_prop(group):\n",
      "\tbirths=group.births.astype(float)\n",
      "\tgroup['prop']=births/births.sum()\n",
      "\treturn group\n",
      "\n",
      "#check sum\n",
      "names2=names.groupby(['year', 'sex']).apply(add_prop)\n",
      "\n",
      "def top_1000(group):\n",
      "\treturn group.sort_index(by='births', ascending=False)[:1000]\n",
      "\n",
      "grouped=names2.groupby(['year', 'sex'])\n",
      "top_1000=grouped.apply(top_1000)\n",
      "\n",
      "boys=top_1000[top_1000.sex=='M']\n",
      "girls=top_1000[top_1000.sex=='F']\n",
      "\n",
      "\n",
      "#plot share of top 1000 names by year/sex\n",
      "table=top_1000.pivot_table('prop', rows='year', columns='sex', aggfunc=sum)\n",
      "table.plot()\n",
      "plt.show()"
     ],
     "language": "python",
     "metadata": {},
     "outputs": [],
     "prompt_number": 12
    },
    {
     "cell_type": "markdown",
     "metadata": {},
     "source": [
      "Plot number of names in top 50%:"
     ]
    },
    {
     "cell_type": "code",
     "collapsed": false,
     "input": [
      "#plot number of names in top 50%\n",
      "def get_quantile_count(group, q=0.5):\n",
      "\tgroup=group.sort_index(by='prop', ascending=False)\n",
      "\tcumsum= np.array(group.prop.cumsum() )\n",
      "\treturn cumsum.searchsorted(q)\n",
      "\n",
      "diversity=top_1000.groupby(['year', 'sex']).apply(get_quantile_count)\n",
      "diversity=diversity.unstack('sex')\n",
      "diversity.plot(title='Number of popular names in top 50%')\n",
      "plt.show()\n"
     ],
     "language": "python",
     "metadata": {},
     "outputs": [],
     "prompt_number": 14
    },
    {
     "cell_type": "code",
     "collapsed": false,
     "input": [],
     "language": "python",
     "metadata": {},
     "outputs": []
    }
   ],
   "metadata": {}
  }
 ]
}