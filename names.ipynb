{
 "metadata": {
  "name": "",
  "signature": "sha256:288b36caf86cba9114a59fdc3d8325c7dd8587f3509960dd4955af607b2fae47"
 },
 "nbformat": 3,
 "nbformat_minor": 0,
 "worksheets": [
  {
   "cells": [
    {
     "cell_type": "heading",
     "level": 1,
     "metadata": {},
     "source": [
      "Baby Names Analysis"
     ]
    },
    {
     "cell_type": "code",
     "collapsed": false,
     "input": [
      "#!/usr/bin/env python\n",
      "\n",
      "import sys\n",
      "import pandas as pd\n",
      "import os\n",
      "import numpy as np\n",
      "import matplotlib.pyplot as plt\n",
      "from statsmodels.nonparametric.smoothers_lowess import lowess\n",
      "import matplotlib\n",
      "from matplotlib.mlab import PCA\n",
      "\n",
      "\n",
      "filedir=\"/Users/snelson/projects/names\"\n",
      "os.chdir(filedir)\n",
      "\n",
      "years=range(1880, 2013)\n",
      "pieces=[]\n",
      "columns=['name', 'sex', 'births']\n",
      "\n",
      "for year in years:\n",
      "\tpath='./yob%d.txt' % year\n",
      "\tframe=pd.read_csv(path, names=columns)\n",
      "\tframe['year']=year\n",
      "\tpieces.append(frame)\n",
      "\n",
      "names=pd.concat(pieces, ignore_index=True)"
     ],
     "language": "python",
     "metadata": {},
     "outputs": [],
     "prompt_number": 4
    },
    {
     "cell_type": "markdown",
     "metadata": {},
     "source": [
      "Plot total births by year/sex:"
     ]
    },
    {
     "cell_type": "code",
     "collapsed": false,
     "input": [
      "total_births=names.pivot_table('births', rows='year', columns='sex', aggfunc=sum)\n",
      "total_births.head()\n",
      "total_births.tail()\n",
      "total_births.plot(title='Total births by sex and year')\n",
      "plt.show()"
     ],
     "language": "python",
     "metadata": {},
     "outputs": [],
     "prompt_number": 6
    },
    {
     "cell_type": "markdown",
     "metadata": {},
     "source": [
      "Plot proportions of M/F:"
     ]
    },
    {
     "cell_type": "code",
     "collapsed": false,
     "input": [
      "def add_prop(group):\n",
      "\tbirths=group.births.astype(float)\n",
      "\tgroup['prop']=births/births.sum()\n",
      "\treturn group\n",
      "\n",
      "#check sum\n",
      "names2=names.groupby(['year', 'sex']).apply(add_prop)\n",
      "\n",
      "def top_1000(group):\n",
      "\treturn group.sort_index(by='births', ascending=False)[:1000]\n",
      "\n",
      "grouped=names2.groupby(['year', 'sex'])\n",
      "top_1000=grouped.apply(top_1000)\n",
      "\n",
      "boys=top_1000[top_1000.sex=='M']\n",
      "girls=top_1000[top_1000.sex=='F']\n",
      "\n",
      "\n",
      "#plot share of top 1000 names by year/sex\n",
      "table=top_1000.pivot_table('prop', rows='year', columns='sex', aggfunc=sum)\n",
      "table.plot()\n",
      "plt.show()"
     ],
     "language": "python",
     "metadata": {},
     "outputs": [],
     "prompt_number": 12
    },
    {
     "cell_type": "markdown",
     "metadata": {},
     "source": [
      "Plot number of names in top 50%:"
     ]
    },
    {
     "cell_type": "code",
     "collapsed": false,
     "input": [
      "#plot number of names in top 50%\n",
      "def get_quantile_count(group, q=0.5):\n",
      "\tgroup=group.sort_index(by='prop', ascending=False)\n",
      "\tcumsum= np.array(group.prop.cumsum() )\n",
      "\treturn cumsum.searchsorted(q)\n",
      "\n",
      "diversity=top_1000.groupby(['year', 'sex']).apply(get_quantile_count)\n",
      "diversity=diversity.unstack('sex')\n",
      "diversity.plot(title='Number of popular names in top 50%')\n",
      "plt.show()\n"
     ],
     "language": "python",
     "metadata": {},
     "outputs": [],
     "prompt_number": 14
    },
    {
     "cell_type": "markdown",
     "metadata": {},
     "source": [
      "Plot popularity of these 3 names:"
     ]
    },
    {
     "cell_type": "code",
     "collapsed": false,
     "input": [
      "#plot  popularity of these 3 names\n",
      "births_by_name=boys.pivot_table('prop', rows='year', columns='name', aggfunc=sum).dropna(axis=1)\n",
      "subset=births_by_name[['Henry', 'Samuel', 'Oscar']]\n",
      "subset.plot()\n",
      "plt.show()"
     ],
     "language": "python",
     "metadata": {},
     "outputs": [],
     "prompt_number": 16
    },
    {
     "cell_type": "markdown",
     "metadata": {},
     "source": [
      "Print names high correlated with 'Henry\" (correlation on levels)"
     ]
    },
    {
     "cell_type": "code",
     "collapsed": false,
     "input": [
      "#correlations on levels\n",
      "corr=births_by_name.loc[1960:].pct_change().corr()\n",
      "corr=corr['Henry'].order(ascending=False)\n",
      "corr.plot()\n",
      "plt.show()\n",
      "print corr[corr>0.3]"
     ],
     "language": "python",
     "metadata": {},
     "outputs": [
      {
       "output_type": "stream",
       "stream": "stdout",
       "text": [
        "name\n",
        "Henry       1.000000\n",
        "Leo         0.582735\n",
        "Everett     0.535367\n",
        "Dean        0.443033\n",
        "Oliver      0.439519\n",
        "August      0.433539\n",
        "Theodore    0.432333\n",
        "Charlie     0.411256\n",
        "Bruce       0.406373\n",
        "Mike        0.382077\n",
        "Arthur      0.373369\n",
        "Leon        0.372261\n",
        "Calvin      0.371541\n",
        "Eli         0.348386\n",
        "Emmett      0.346574\n",
        "Alvin       0.344776\n",
        "Ellis       0.324549\n",
        "Felix       0.311286\n",
        "Name: Henry, dtype: float64\n"
       ]
      }
     ],
     "prompt_number": 23
    },
    {
     "cell_type": "code",
     "collapsed": false,
     "input": [
      "print corr"
     ],
     "language": "python",
     "metadata": {},
     "outputs": [
      {
       "output_type": "stream",
       "stream": "stdout",
       "text": [
        "name\n",
        "Henry       1.000000\n",
        "Leo         0.582735\n",
        "Everett     0.535367\n",
        "Dean        0.443033\n",
        "Oliver      0.439519\n",
        "August      0.433539\n",
        "Theodore    0.432333\n",
        "Charlie     0.411256\n",
        "Bruce       0.406373\n",
        "Mike        0.382077\n",
        "Arthur      0.373369\n",
        "Leon        0.372261\n",
        "Calvin      0.371541\n",
        "Eli         0.348386\n",
        "Emmett      0.346574\n",
        "...\n",
        "Eric          -0.480115\n",
        "Francisco     -0.481899\n",
        "Seth          -0.487506\n",
        "Antonio       -0.495640\n",
        "Joshua        -0.500660\n",
        "Luis          -0.503349\n",
        "Jonathan      -0.512332\n",
        "Joseph        -0.512772\n",
        "Matthew       -0.523401\n",
        "Michael       -0.540213\n",
        "Christopher   -0.543831\n",
        "Jacob         -0.554998\n",
        "Jose          -0.572233\n",
        "Andrew        -0.602613\n",
        "Micheal       -0.604508\n",
        "Name: Henry, Length: 204, dtype: float64\n"
       ]
      }
     ],
     "prompt_number": 20
    },
    {
     "cell_type": "markdown",
     "metadata": {},
     "source": [
      "Plot rate of change for highly correlated names:"
     ]
    },
    {
     "cell_type": "code",
     "collapsed": false,
     "input": [
      "#plot highly correlated names\n",
      "fnames=corr.index\n",
      "births_by_name.loc[:, 'Henry'].pct_change().plot()\n",
      "births_by_name.loc[:,fnames[:5]].pct_change().plot()\n",
      "plt.show()"
     ],
     "language": "python",
     "metadata": {},
     "outputs": [],
     "prompt_number": 26
    },
    {
     "cell_type": "markdown",
     "metadata": {},
     "source": [
      "Plot exponentially weighted moving average:"
     ]
    },
    {
     "cell_type": "code",
     "collapsed": false,
     "input": [
      "#plot ewma \n",
      "ts=births_by_name.pct_change()\n",
      "pd.ewma(ts[fnames[:3]], span=10).plot()\n",
      "plt.show()"
     ],
     "language": "python",
     "metadata": {},
     "outputs": [],
     "prompt_number": 27
    },
    {
     "cell_type": "markdown",
     "metadata": {},
     "source": [
      "Lowess plots:"
     ]
    },
    {
     "cell_type": "code",
     "collapsed": false,
     "input": [
      "#lowess plot\n",
      "fit=pd.DataFrame(index=ts.index[1:])\n",
      "for name in fnames:\n",
      "    fit[name]=lowess(exog=ts.index, endog=ts[name])[:,1]\n",
      "\n",
      "fig, ax=fit[fnames[:10]].plot()\n",
      "fit[fnames[:10]].plot()\n",
      "plt.show()"
     ],
     "language": "python",
     "metadata": {},
     "outputs": [
      {
       "ename": "TypeError",
       "evalue": "'AxesSubplot' object is not iterable",
       "output_type": "pyerr",
       "traceback": [
        "\u001b[0;31m---------------------------------------------------------------------------\u001b[0m\n\u001b[0;31mTypeError\u001b[0m                                 Traceback (most recent call last)",
        "\u001b[0;32m<ipython-input-32-16a1a5e1b53f>\u001b[0m in \u001b[0;36m<module>\u001b[0;34m()\u001b[0m\n\u001b[1;32m      4\u001b[0m     \u001b[0mfit\u001b[0m\u001b[0;34m[\u001b[0m\u001b[0mname\u001b[0m\u001b[0;34m]\u001b[0m\u001b[0;34m=\u001b[0m\u001b[0mlowess\u001b[0m\u001b[0;34m(\u001b[0m\u001b[0mexog\u001b[0m\u001b[0;34m=\u001b[0m\u001b[0mts\u001b[0m\u001b[0;34m.\u001b[0m\u001b[0mindex\u001b[0m\u001b[0;34m,\u001b[0m \u001b[0mendog\u001b[0m\u001b[0;34m=\u001b[0m\u001b[0mts\u001b[0m\u001b[0;34m[\u001b[0m\u001b[0mname\u001b[0m\u001b[0;34m]\u001b[0m\u001b[0;34m)\u001b[0m\u001b[0;34m[\u001b[0m\u001b[0;34m:\u001b[0m\u001b[0;34m,\u001b[0m\u001b[0;36m1\u001b[0m\u001b[0;34m]\u001b[0m\u001b[0;34m\u001b[0m\u001b[0m\n\u001b[1;32m      5\u001b[0m \u001b[0;34m\u001b[0m\u001b[0m\n\u001b[0;32m----> 6\u001b[0;31m \u001b[0mfig\u001b[0m\u001b[0;34m,\u001b[0m \u001b[0max\u001b[0m\u001b[0;34m=\u001b[0m\u001b[0mfit\u001b[0m\u001b[0;34m[\u001b[0m\u001b[0mfnames\u001b[0m\u001b[0;34m[\u001b[0m\u001b[0;34m:\u001b[0m\u001b[0;36m10\u001b[0m\u001b[0;34m]\u001b[0m\u001b[0;34m]\u001b[0m\u001b[0;34m.\u001b[0m\u001b[0mplot\u001b[0m\u001b[0;34m(\u001b[0m\u001b[0;34m)\u001b[0m\u001b[0;34m\u001b[0m\u001b[0m\n\u001b[0m\u001b[1;32m      7\u001b[0m \u001b[0mfit\u001b[0m\u001b[0;34m[\u001b[0m\u001b[0mfnames\u001b[0m\u001b[0;34m[\u001b[0m\u001b[0;34m:\u001b[0m\u001b[0;36m10\u001b[0m\u001b[0;34m]\u001b[0m\u001b[0;34m]\u001b[0m\u001b[0;34m.\u001b[0m\u001b[0mplot\u001b[0m\u001b[0;34m(\u001b[0m\u001b[0;34m)\u001b[0m\u001b[0;34m\u001b[0m\u001b[0m\n\u001b[1;32m      8\u001b[0m \u001b[0mplt\u001b[0m\u001b[0;34m.\u001b[0m\u001b[0mshow\u001b[0m\u001b[0;34m(\u001b[0m\u001b[0;34m)\u001b[0m\u001b[0;34m\u001b[0m\u001b[0m\n",
        "\u001b[0;31mTypeError\u001b[0m: 'AxesSubplot' object is not iterable"
       ]
      }
     ],
     "prompt_number": 32
    },
    {
     "cell_type": "code",
     "collapsed": false,
     "input": [],
     "language": "python",
     "metadata": {},
     "outputs": []
    }
   ],
   "metadata": {}
  }
 ]
}